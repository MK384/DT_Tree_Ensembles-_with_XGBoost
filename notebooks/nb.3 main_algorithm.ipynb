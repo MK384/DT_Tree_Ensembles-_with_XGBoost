{
 "cells": [
  {
   "cell_type": "markdown",
   "source": [
    "# The Goal of this Project is to code a classifier and regressor decision tree that can be used with the following API:\n",
    "\n",
    "```\n",
    "df = pd.read_csv(\"data.csv\")\n",
    "\n",
    "train_df, test_df = sp.train_test_split(df, test_size = 0.2)\n",
    "tree = dt.train(train_df)\n",
    "predictions = dt.predict(test_df, tree)\n",
    "accuracy = dt.calculate_accuracy(predictions, tree)\n",
    "\n",
    "```\n",
    "\n",
    "The algorithm that is going to be implemented looks like this:\n",
    "\n",
    "<img src=\"https://raw.githubusercontent.com/SebastianMantey/Decision-Tree-from-Scratch/master/images/decision_tree_algorithm_1.png\" width=\"350\">"
   ],
   "metadata": {
    "collapsed": false
   }
  },
  {
   "cell_type": "markdown",
   "source": [
    "## Now After creating all the helper specialized functions and distribute them as one module we are ready to build the main tree algorithm. The tree will take the shape of the dictionary datastructure , the tree dict will have only one key and value , the key is a node question , its value is a list contains basically the two branches , a branch can be either a classification or another subtree (another dict).\n"
   ],
   "metadata": {
    "collapsed": false
   }
  },
  {
   "cell_type": "code",
   "execution_count": 765,
   "outputs": [],
   "source": [
    "from typing import Dict, Any\n",
    "\n",
    "\n",
    "example_tree = {\"petal_width <= 0.8\": [\"Iris-setosa\",\n",
    "                                       {\"petal_width <= 1.65\": [{\"petal_length <= 4.9\": [\"Iris-versicolor\",\n",
    "                                                                                         \"Iris-virginica\"]},\n",
    "                                                                \"Iris-virginica\"]}]}"
   ],
   "metadata": {
    "collapsed": false
   }
  },
  {
   "cell_type": "markdown",
   "source": [
    "## Import Statements\n"
   ],
   "metadata": {
    "collapsed": false
   }
  },
  {
   "cell_type": "code",
   "execution_count": 766,
   "outputs": [],
   "source": [
    "import pandas as pd\n",
    "from pprint import pprint\n",
    "import random\n",
    "import matplotlib.pyplot as plt\n",
    "import seaborn as sns\n",
    "# main algorithm depends on the specialized functions\n",
    "import special_functions as sp\n"
   ],
   "metadata": {
    "collapsed": false
   }
  },
  {
   "cell_type": "markdown",
   "source": [
    "# Load and Prepare Data"
   ],
   "metadata": {
    "collapsed": false
   }
  },
  {
   "cell_type": "markdown",
   "source": [
    "#### Format of the data\n",
    "- the last column of the data frame must contain the label and it must also be called \"label\"\n",
    "- there should be no missing values in the data frame"
   ],
   "metadata": {
    "collapsed": false
   }
  },
  {
   "cell_type": "code",
   "execution_count": 767,
   "outputs": [],
   "source": [
    "df = pd.read_csv(\"../data/Iris.csv\")\n",
    "df = df.drop(\"Id\", axis=1)\n",
    "df = df.rename(columns={\"species\": \"label\"})\n",
    "data = df.values"
   ],
   "metadata": {
    "collapsed": false
   }
  },
  {
   "cell_type": "code",
   "execution_count": 768,
   "outputs": [
    {
     "data": {
      "text/plain": "   sepal_length  sepal_width  petal_length  petal_width        label\n0           5.1          3.5           1.4          0.2  Iris-setosa\n1           4.9          3.0           1.4          0.2  Iris-setosa\n2           4.7          3.2           1.3          0.2  Iris-setosa\n3           4.6          3.1           1.5          0.2  Iris-setosa\n4           5.0          3.6           1.4          0.2  Iris-setosa",
      "text/html": "<div>\n<style scoped>\n    .dataframe tbody tr th:only-of-type {\n        vertical-align: middle;\n    }\n\n    .dataframe tbody tr th {\n        vertical-align: top;\n    }\n\n    .dataframe thead th {\n        text-align: right;\n    }\n</style>\n<table border=\"1\" class=\"dataframe\">\n  <thead>\n    <tr style=\"text-align: right;\">\n      <th></th>\n      <th>sepal_length</th>\n      <th>sepal_width</th>\n      <th>petal_length</th>\n      <th>petal_width</th>\n      <th>label</th>\n    </tr>\n  </thead>\n  <tbody>\n    <tr>\n      <th>0</th>\n      <td>5.1</td>\n      <td>3.5</td>\n      <td>1.4</td>\n      <td>0.2</td>\n      <td>Iris-setosa</td>\n    </tr>\n    <tr>\n      <th>1</th>\n      <td>4.9</td>\n      <td>3.0</td>\n      <td>1.4</td>\n      <td>0.2</td>\n      <td>Iris-setosa</td>\n    </tr>\n    <tr>\n      <th>2</th>\n      <td>4.7</td>\n      <td>3.2</td>\n      <td>1.3</td>\n      <td>0.2</td>\n      <td>Iris-setosa</td>\n    </tr>\n    <tr>\n      <th>3</th>\n      <td>4.6</td>\n      <td>3.1</td>\n      <td>1.5</td>\n      <td>0.2</td>\n      <td>Iris-setosa</td>\n    </tr>\n    <tr>\n      <th>4</th>\n      <td>5.0</td>\n      <td>3.6</td>\n      <td>1.4</td>\n      <td>0.2</td>\n      <td>Iris-setosa</td>\n    </tr>\n  </tbody>\n</table>\n</div>"
     },
     "execution_count": 768,
     "metadata": {},
     "output_type": "execute_result"
    }
   ],
   "source": [
    "df.head()"
   ],
   "metadata": {
    "collapsed": false
   }
  },
  {
   "cell_type": "markdown",
   "source": [
    "## Train-Test-Split"
   ],
   "metadata": {
    "collapsed": false
   }
  },
  {
   "cell_type": "code",
   "execution_count": 769,
   "outputs": [],
   "source": [
    "random.seed(0)\n",
    "train_df, test_df = sp.train_test_split(df, test_size = 20)"
   ],
   "metadata": {
    "collapsed": false
   }
  },
  {
   "cell_type": "markdown",
   "source": [
    "# Decision Tree Algorithm"
   ],
   "metadata": {
    "collapsed": false
   }
  },
  {
   "cell_type": "code",
   "execution_count": 770,
   "outputs": [],
   "source": [
    "def type_of_features(df, values_threshold = 5):\n",
    "    \"\"\"\n",
    "    this api function return a tuple contain each feature type (continuous , categorical )\n",
    "    :param values_threshold: the threshold of unique vals to consider the features categorical\n",
    "    :param df: the data frame to determine its features types\n",
    "    :return: sorted tuple contains each feature type\n",
    "    \"\"\"\n",
    "    feature_types = []\n",
    "\n",
    "    for feature in df.columns:\n",
    "        if feature != \"label\":\n",
    "            unique_values = df[feature].unique()\n",
    "            example_value = unique_values[0]\n",
    "\n",
    "            if (isinstance(example_value, str)) or (len(unique_values) <= values_threshold):\n",
    "                feature_types.append(\"categorical\")\n",
    "            else:\n",
    "                feature_types.append(\"continuous\")\n",
    "\n",
    "    return tuple(feature_types)"
   ],
   "metadata": {
    "collapsed": false
   }
  },
  {
   "cell_type": "code",
   "execution_count": 771,
   "outputs": [],
   "source": [
    "def dt_train(df, ml_task , counter = 0 , min_samples=2 , max_depth=5 , ) -> str | dict:\n",
    "    \"\"\"\n",
    "    This is the main functions that performs recursion algorithm to train and return a decision tree\n",
    "     the tree in a shape of dict datastructure. don't use the counter parameter,\n",
    "     the algorithm only uses it to handle the recursion in the most optimized way.\n",
    "    :param df: the pandas data frame to train the tree\n",
    "    :param counter: (no for user )\n",
    "    :param max_depth: the maximum depth of the tree\n",
    "    :param min_samples: the min sample in a leaf\n",
    "    :return: a tree data structure build on a dict\n",
    "    \"\"\"\n",
    "    global FEATURES_NAMES # a global var to store the feature names from first iteration\n",
    "\n",
    "    # data preparations\n",
    "    if counter == 0:  # when counter is 0 the function called for the first time with a pandas data frame\n",
    "        # this is global vars for the features names and types\n",
    "        FEATURES_NAMES = df.columns\n",
    "        sp.FEATURE_TYPES = type_of_features(df)\n",
    "        data = df.values\n",
    "\n",
    "    # we convert it to numpy data array as all our algorithms runs on it\n",
    "    #     counter not 0 means that recursion hasn't done yet\n",
    "    else:\n",
    "        data = df\n",
    "\n",
    "    # base cases to stop recursion is when the splot data is pure,\n",
    "    # or we reach the maximum depth or when collect the minimum number required as data samples\n",
    "    if (sp.check_purity(data)) or (counter == max_depth) or (len(data) < min_samples):\n",
    "        return sp.make_leaf(data , ml_task)\n",
    "\n",
    "\n",
    "    # recursive part of the algorithm\n",
    "    else:\n",
    "        # counter will be used to get depth information\n",
    "        counter += 1\n",
    "        # dependencies on specialized functions\n",
    "        split_feature_index, split_value = sp.fit_best_split(data,ml_task) # first decide (fit best)\n",
    "        # the most informatic feature and value\n",
    "\n",
    "        # to split the node on\n",
    "        data_below, data_above = sp.split_data(data, split_feature_index, split_value) # make the split\n",
    "\n",
    "        # check for empty data\n",
    "        if len(data_below) == 0 or len(data_above) == 0:\n",
    "            return sp.make_leaf(data, ml_task)\n",
    "\n",
    "\n",
    "        feature_name = FEATURES_NAMES[split_feature_index]\n",
    "        feature_type = sp.FEATURE_TYPES[split_feature_index]\n",
    "        # instantiate the question and the subtree(s)\n",
    "        # for both continuous and categorical features\n",
    "        if feature_type == \"continuous\":\n",
    "            question = f\"{feature_name} <= {split_value}\"\n",
    "        else:\n",
    "            question = f\"{feature_name} = {split_value}\"\n",
    "\n",
    "        sub_tree = {question: []}\n",
    "\n",
    "        # find answers (in recursion way)\n",
    "        yes_answer = dt_train(data_below,ml_task, counter , min_samples, max_depth)\n",
    "\n",
    "        no_answer = dt_train(data_above, ml_task, counter , min_samples, max_depth)\n",
    "        # respond to the caller with the answers\n",
    "\n",
    "        if yes_answer == no_answer: # to prevent the tree from creating such identical branches\n",
    "            sub_tree = yes_answer\n",
    "        else:\n",
    "            sub_tree[question].append(yes_answer)\n",
    "            sub_tree[question].append(no_answer)\n",
    "\n",
    "        return sub_tree"
   ],
   "metadata": {
    "collapsed": false
   }
  },
  {
   "cell_type": "markdown",
   "source": [
    "### API Testing\n",
    "- we already know from the prev notebook that the feature of the petal_width mainly separate the iris-setosa flowers than other at about 0.6 of width , by removing the third class we know that the rest two classes can be mainly split on the root node.\n",
    "- so we predict that our algorithm to return a dict contains two strings (the classes names)."
   ],
   "metadata": {
    "collapsed": false
   }
  },
  {
   "cell_type": "code",
   "execution_count": 772,
   "outputs": [
    {
     "data": {
      "text/plain": "{'petal_width <= 0.6': ['Iris-setosa', 'Iris-versicolor']}"
     },
     "execution_count": 772,
     "metadata": {},
     "output_type": "execute_result"
    }
   ],
   "source": [
    "dt_train(df[df.label != 'Iris-virginica'] , 'classification')\n",
    "\n"
   ],
   "metadata": {
    "collapsed": false
   }
  },
  {
   "cell_type": "markdown",
   "source": [
    "#### Let's build the tree upon the whole data frame"
   ],
   "metadata": {
    "collapsed": false
   }
  },
  {
   "cell_type": "code",
   "execution_count": 773,
   "outputs": [
    {
     "name": "stdout",
     "output_type": "stream",
     "text": [
      "{'petal_width <= 0.6': ['Iris-setosa',\n",
      "                        {'petal_width <= 1.7': [{'petal_length <= 4.9': [{'petal_width <= 1.6': ['Iris-versicolor',\n",
      "                                                                                                 'Iris-virginica']},\n",
      "                                                                         {'petal_width <= 1.5': ['Iris-virginica',\n",
      "                                                                                                 {'petal_length <= 5.1': ['Iris-versicolor',\n",
      "                                                                                                                          'Iris-virginica']}]}]},\n",
      "                                                {'petal_length <= 4.8': [{'sepal_width <= 3.0': ['Iris-virginica',\n",
      "                                                                                                 'Iris-versicolor']},\n",
      "                                                                         'Iris-virginica']}]}]}\n"
     ]
    },
    {
     "data": {
      "text/plain": "<matplotlib.collections.LineCollection at 0x1cae0df9a20>"
     },
     "execution_count": 773,
     "metadata": {},
     "output_type": "execute_result"
    },
    {
     "data": {
      "text/plain": "<Figure size 1032.5x600 with 1 Axes>",
      "image/png": "[encoded data removed]"
     },
     "metadata": {},
     "output_type": "display_data"
    }
   ],
   "source": [
    "pprint(dt_train(df,'classification'))\n",
    "sns.lmplot(data = df ,x = \"petal_width\",y='petal_length',hue='label',fit_reg = False , height  = 6 , aspect = 1.5 )\n",
    "plt.hlines(y = 2.45 , xmin = 0 , xmax = 3 )\n",
    "plt.vlines(x = 1.75 , ymin = 1 , ymax = 7 ,colors=\"purple\")"
   ],
   "metadata": {
    "collapsed": false
   }
  },
  {
   "cell_type": "markdown",
   "source": [
    "# Classification"
   ],
   "metadata": {
    "collapsed": false
   }
  },
  {
   "cell_type": "markdown",
   "source": [
    "#### If we pick an sample (row) from the test data frame ..."
   ],
   "metadata": {
    "collapsed": false
   }
  },
  {
   "cell_type": "code",
   "execution_count": 774,
   "outputs": [
    {
     "data": {
      "text/plain": "sepal_length                5.1\nsepal_width                 2.5\npetal_length                3.0\npetal_width                 1.1\nlabel           Iris-versicolor\nName: 98, dtype: object"
     },
     "execution_count": 774,
     "metadata": {},
     "output_type": "execute_result"
    }
   ],
   "source": [
    "example = test_df.iloc[0]\n",
    "example"
   ],
   "metadata": {
    "collapsed": false
   }
  },
  {
   "cell_type": "markdown",
   "source": [
    "#### We are to create a specialized function its main jop to classify one sample based on a tree given to it."
   ],
   "metadata": {
    "collapsed": false
   }
  },
  {
   "cell_type": "code",
   "execution_count": 775,
   "outputs": [],
   "source": [
    "def predict_sample(sample, tree):\n",
    "    \"\"\"\n",
    "    this API function classify one sample passed to it based on a given tree structure.\n",
    "    :param sample: the sample to be classified\n",
    "    :param tree: the tree structure to classify on\n",
    "    :return: string a class name\n",
    "    \"\"\"\n",
    "    # the question of the node is the key of the dict\n",
    "    question = list(tree.keys())[0]\n",
    "\n",
    "    # feature <= split_value\n",
    "    # we split the attributes form the key\n",
    "    feature_name, comparison_operator, value = question.split(\" \")\n",
    "\n",
    "    # ask question logically\n",
    "\n",
    "    if comparison_operator == '<=':  # the feature is continuous\n",
    "        if sample[feature_name] <= float(value):\n",
    "            # the answer of yes leads to right branch\n",
    "            answer = tree[question][0]\n",
    "        else:\n",
    "            # No leads to the left\n",
    "            answer = tree[question][1]\n",
    "\n",
    "\n",
    "    else: # the feature is categorical\n",
    "        if str(example[feature_name]) == value:\n",
    "            answer = tree[question][0]\n",
    "        else:\n",
    "            answer = tree[question][1]\n",
    "\n",
    "\n",
    "    # base case to recurse in a subtree of return a class name\n",
    "    if not isinstance(answer, dict):\n",
    "        # answer is a class name\n",
    "        return answer\n",
    "\n",
    "    # recursive part , answer is another tree\n",
    "    else:\n",
    "        residual_tree = answer # answer is a subtree\n",
    "        return predict_sample(sample, residual_tree)"
   ],
   "metadata": {
    "collapsed": false
   }
  },
  {
   "cell_type": "code",
   "execution_count": 776,
   "outputs": [
    {
     "name": "stdout",
     "output_type": "stream",
     "text": [
      "{'petal_width <= 0.6': ['Iris-setosa',\n",
      "                        {'petal_width <= 1.6': [{'petal_length <= 4.9': ['Iris-versicolor',\n",
      "                                                                         'Iris-virginica']},\n",
      "                                                'Iris-virginica']}]}\n",
      "sepal_length            5.4\n",
      "sepal_width             3.7\n",
      "petal_length            1.5\n",
      "petal_width             0.2\n",
      "label           Iris-setosa\n",
      "Name: 10, dtype: object\n"
     ]
    },
    {
     "data": {
      "text/plain": "'Iris-setosa'"
     },
     "execution_count": 776,
     "metadata": {},
     "output_type": "execute_result"
    }
   ],
   "source": [
    "tree = dt_train(train_df , max_depth=3 ,  ml_task= 'class')\n",
    "pprint(tree)\n",
    "sample = test_df.iloc[2]\n",
    "pprint(sample)\n",
    "predict_sample(sample,tree)"
   ],
   "metadata": {
    "collapsed": false
   }
  },
  {
   "cell_type": "markdown",
   "source": [
    "## Predict & Calculate Accuracy"
   ],
   "metadata": {
    "collapsed": false
   }
  },
  {
   "cell_type": "markdown",
   "source": [
    "#### we are now ready to make a prediction on any test data frame , based of the learned tree in the help of the prev function"
   ],
   "metadata": {
    "collapsed": false
   }
  },
  {
   "cell_type": "code",
   "execution_count": 777,
   "outputs": [],
   "source": [
    "def dt_predict(df , tree , ml_task):\n",
    "    \"\"\"\n",
    "    This API function predict the classification of a pandas data frame based on a trained tree,\n",
    "    Only used with classifier tree\n",
    "\n",
    "    :param df: the test pandas data frame\n",
    "    :param tree: a trained tree to classify and predict on\n",
    "    :return: a pandas data frame with new two columns,\n",
    "    classification and prediction_correct\n",
    "    \"\"\"\n",
    "    # add the classification col and apply the classify_sample function to each of its rows\n",
    "    ret_df = df.copy()\n",
    "    if ml_task != 'regression':\n",
    "        ret_df[\"classification\"] = df.apply(predict_sample, axis=1, args=(tree,))\n",
    "        # add the prediction_correct col and set its values to booleans of the matching with the actual labels\n",
    "        ret_df[\"prediction_correct\"] = ret_df[\"classification\"] == df[\"label\"]\n",
    "    elif ml_task == 'regression':\n",
    "        ret_df[\"regression\"] = df.apply(predict_sample, axis=1, args=(tree,))\n",
    "\n",
    "    return ret_df"
   ],
   "metadata": {
    "collapsed": false
   }
  },
  {
   "cell_type": "markdown",
   "source": [
    "### API Testing"
   ],
   "metadata": {
    "collapsed": false
   }
  },
  {
   "cell_type": "code",
   "execution_count": 778,
   "outputs": [
    {
     "name": "stdout",
     "output_type": "stream",
     "text": [
      "{'petal_width <= 0.6': ['Iris-setosa',\n",
      "                        {'petal_width <= 1.6': [{'petal_length <= 4.9': ['Iris-versicolor',\n",
      "                                                                         'Iris-virginica']},\n",
      "                                                'Iris-virginica']}]}\n"
     ]
    },
    {
     "data": {
      "text/plain": "     sepal_length  sepal_width  petal_length  petal_width            label  \\\n98            5.1          2.5           3.0          1.1  Iris-versicolor   \n107           7.3          2.9           6.3          1.8   Iris-virginica   \n10            5.4          3.7           1.5          0.2      Iris-setosa   \n66            5.6          3.0           4.5          1.5  Iris-versicolor   \n130           7.4          2.8           6.1          1.9   Iris-virginica   \n124           6.7          3.3           5.7          2.1   Iris-virginica   \n103           6.3          2.9           5.6          1.8   Iris-virginica   \n77            6.7          3.0           5.0          1.7  Iris-versicolor   \n122           7.7          2.8           6.7          2.0   Iris-virginica   \n91            6.1          3.0           4.6          1.4  Iris-versicolor   \n149           5.9          3.0           5.1          1.8   Iris-virginica   \n55            5.7          2.8           4.5          1.3  Iris-versicolor   \n129           7.2          3.0           5.8          1.6   Iris-virginica   \n35            5.0          3.2           1.2          0.2      Iris-setosa   \n72            6.3          2.5           4.9          1.5  Iris-versicolor   \n24            4.8          3.4           1.9          0.2      Iris-setosa   \n64            5.6          2.9           3.6          1.3  Iris-versicolor   \n136           6.3          3.4           5.6          2.4   Iris-virginica   \n37            4.9          3.1           1.5          0.1      Iris-setosa   \n79            5.7          2.6           3.5          1.0  Iris-versicolor   \n\n      classification  prediction_correct  \n98   Iris-versicolor                True  \n107   Iris-virginica                True  \n10       Iris-setosa                True  \n66   Iris-versicolor                True  \n130   Iris-virginica                True  \n124   Iris-virginica                True  \n103   Iris-virginica                True  \n77    Iris-virginica               False  \n122   Iris-virginica                True  \n91   Iris-versicolor                True  \n149   Iris-virginica                True  \n55   Iris-versicolor                True  \n129   Iris-virginica                True  \n35       Iris-setosa                True  \n72   Iris-versicolor                True  \n24       Iris-setosa                True  \n64   Iris-versicolor                True  \n136   Iris-virginica                True  \n37       Iris-setosa                True  \n79   Iris-versicolor                True  ",
      "text/html": "<div>\n<style scoped>\n    .dataframe tbody tr th:only-of-type {\n        vertical-align: middle;\n    }\n\n    .dataframe tbody tr th {\n        vertical-align: top;\n    }\n\n    .dataframe thead th {\n        text-align: right;\n    }\n</style>\n<table border=\"1\" class=\"dataframe\">\n  <thead>\n    <tr style=\"text-align: right;\">\n      <th></th>\n      <th>sepal_length</th>\n      <th>sepal_width</th>\n      <th>petal_length</th>\n      <th>petal_width</th>\n      <th>label</th>\n      <th>classification</th>\n      <th>prediction_correct</th>\n    </tr>\n  </thead>\n  <tbody>\n    <tr>\n      <th>98</th>\n      <td>5.1</td>\n      <td>2.5</td>\n      <td>3.0</td>\n      <td>1.1</td>\n      <td>Iris-versicolor</td>\n      <td>Iris-versicolor</td>\n      <td>True</td>\n    </tr>\n    <tr>\n      <th>107</th>\n      <td>7.3</td>\n      <td>2.9</td>\n      <td>6.3</td>\n      <td>1.8</td>\n      <td>Iris-virginica</td>\n      <td>Iris-virginica</td>\n      <td>True</td>\n    </tr>\n    <tr>\n      <th>10</th>\n      <td>5.4</td>\n      <td>3.7</td>\n      <td>1.5</td>\n      <td>0.2</td>\n      <td>Iris-setosa</td>\n      <td>Iris-setosa</td>\n      <td>True</td>\n    </tr>\n    <tr>\n      <th>66</th>\n      <td>5.6</td>\n      <td>3.0</td>\n      <td>4.5</td>\n      <td>1.5</td>\n      <td>Iris-versicolor</td>\n      <td>Iris-versicolor</td>\n      <td>True</td>\n    </tr>\n    <tr>\n      <th>130</th>\n      <td>7.4</td>\n      <td>2.8</td>\n      <td>6.1</td>\n      <td>1.9</td>\n      <td>Iris-virginica</td>\n      <td>Iris-virginica</td>\n      <td>True</td>\n    </tr>\n    <tr>\n      <th>124</th>\n      <td>6.7</td>\n      <td>3.3</td>\n      <td>5.7</td>\n      <td>2.1</td>\n      <td>Iris-virginica</td>\n      <td>Iris-virginica</td>\n      <td>True</td>\n    </tr>\n    <tr>\n      <th>103</th>\n      <td>6.3</td>\n      <td>2.9</td>\n      <td>5.6</td>\n      <td>1.8</td>\n      <td>Iris-virginica</td>\n      <td>Iris-virginica</td>\n      <td>True</td>\n    </tr>\n    <tr>\n      <th>77</th>\n      <td>6.7</td>\n      <td>3.0</td>\n      <td>5.0</td>\n      <td>1.7</td>\n      <td>Iris-versicolor</td>\n      <td>Iris-virginica</td>\n      <td>False</td>\n    </tr>\n    <tr>\n      <th>122</th>\n      <td>7.7</td>\n      <td>2.8</td>\n      <td>6.7</td>\n      <td>2.0</td>\n      <td>Iris-virginica</td>\n      <td>Iris-virginica</td>\n      <td>True</td>\n    </tr>\n    <tr>\n      <th>91</th>\n      <td>6.1</td>\n      <td>3.0</td>\n      <td>4.6</td>\n      <td>1.4</td>\n      <td>Iris-versicolor</td>\n      <td>Iris-versicolor</td>\n      <td>True</td>\n    </tr>\n    <tr>\n      <th>149</th>\n      <td>5.9</td>\n      <td>3.0</td>\n      <td>5.1</td>\n      <td>1.8</td>\n      <td>Iris-virginica</td>\n      <td>Iris-virginica</td>\n      <td>True</td>\n    </tr>\n    <tr>\n      <th>55</th>\n      <td>5.7</td>\n      <td>2.8</td>\n      <td>4.5</td>\n      <td>1.3</td>\n      <td>Iris-versicolor</td>\n      <td>Iris-versicolor</td>\n      <td>True</td>\n    </tr>\n    <tr>\n      <th>129</th>\n      <td>7.2</td>\n      <td>3.0</td>\n      <td>5.8</td>\n      <td>1.6</td>\n      <td>Iris-virginica</td>\n      <td>Iris-virginica</td>\n      <td>True</td>\n    </tr>\n    <tr>\n      <th>35</th>\n      <td>5.0</td>\n      <td>3.2</td>\n      <td>1.2</td>\n      <td>0.2</td>\n      <td>Iris-setosa</td>\n      <td>Iris-setosa</td>\n      <td>True</td>\n    </tr>\n    <tr>\n      <th>72</th>\n      <td>6.3</td>\n      <td>2.5</td>\n      <td>4.9</td>\n      <td>1.5</td>\n      <td>Iris-versicolor</td>\n      <td>Iris-versicolor</td>\n      <td>True</td>\n    </tr>\n    <tr>\n      <th>24</th>\n      <td>4.8</td>\n      <td>3.4</td>\n      <td>1.9</td>\n      <td>0.2</td>\n      <td>Iris-setosa</td>\n      <td>Iris-setosa</td>\n      <td>True</td>\n    </tr>\n    <tr>\n      <th>64</th>\n      <td>5.6</td>\n      <td>2.9</td>\n      <td>3.6</td>\n      <td>1.3</td>\n      <td>Iris-versicolor</td>\n      <td>Iris-versicolor</td>\n      <td>True</td>\n    </tr>\n    <tr>\n      <th>136</th>\n      <td>6.3</td>\n      <td>3.4</td>\n      <td>5.6</td>\n      <td>2.4</td>\n      <td>Iris-virginica</td>\n      <td>Iris-virginica</td>\n      <td>True</td>\n    </tr>\n    <tr>\n      <th>37</th>\n      <td>4.9</td>\n      <td>3.1</td>\n      <td>1.5</td>\n      <td>0.1</td>\n      <td>Iris-setosa</td>\n      <td>Iris-setosa</td>\n      <td>True</td>\n    </tr>\n    <tr>\n      <th>79</th>\n      <td>5.7</td>\n      <td>2.6</td>\n      <td>3.5</td>\n      <td>1.0</td>\n      <td>Iris-versicolor</td>\n      <td>Iris-versicolor</td>\n      <td>True</td>\n    </tr>\n  </tbody>\n</table>\n</div>"
     },
     "execution_count": 778,
     "metadata": {},
     "output_type": "execute_result"
    }
   ],
   "source": [
    "trained_tree = dt_train(train_df,max_depth=3 , ml_task='class')\n",
    "predicted_df = dt_predict(test_df,trained_tree,'classification')\n",
    "pprint(trained_tree)\n",
    "predicted_df"
   ],
   "metadata": {
    "collapsed": false
   }
  },
  {
   "cell_type": "markdown",
   "source": [
    "## Now we want such API that enables us to get the Accuracy of the predicted classifications and the r_squared for the predicted regression."
   ],
   "metadata": {
    "collapsed": false
   }
  },
  {
   "cell_type": "code",
   "execution_count": 779,
   "outputs": [],
   "source": [
    "### Accuracy"
   ],
   "metadata": {
    "collapsed": false
   }
  },
  {
   "cell_type": "code",
   "execution_count": 780,
   "outputs": [],
   "source": [
    "def dt_calculate_accuracy(df):\n",
    "    \"\"\"\n",
    "    This api function to calculate the accuracy of predicted classification from predict api.\n",
    "    Only used with a classifier tree\n",
    "    :param df: the pandas data frame returned from the dt_predict api\n",
    "    :return: a float number represent the accuracy of the prediction\n",
    "    \"\"\"\n",
    "    # accuracy is just the mean value of the binaries\n",
    "    # in the prediction_correct col\n",
    "    accuracy = df[\"prediction_correct\"].mean()\n",
    "\n",
    "    return accuracy"
   ],
   "metadata": {
    "collapsed": false
   }
  },
  {
   "cell_type": "code",
   "execution_count": 781,
   "outputs": [
    {
     "ename": "TypeError",
     "evalue": "dt_predict() missing 1 required positional argument: 'ml_task'",
     "output_type": "error",
     "traceback": [
      "\u001B[1;31m---------------------------------------------------------------------------\u001B[0m",
      "\u001B[1;31mTypeError\u001B[0m                                 Traceback (most recent call last)",
      "Cell \u001B[1;32mIn[781], line 3\u001B[0m\n\u001B[0;32m      1\u001B[0m train_df , test_df \u001B[38;5;241m=\u001B[39m sp\u001B[38;5;241m.\u001B[39mtrain_test_split(df , test_size\u001B[38;5;241m=\u001B[39m\u001B[38;5;241m0.2\u001B[39m)\n\u001B[0;32m      2\u001B[0m tree \u001B[38;5;241m=\u001B[39m dt_train(train_df,max_depth\u001B[38;5;241m=\u001B[39m\u001B[38;5;241m3\u001B[39m, ml_task\u001B[38;5;241m=\u001B[39m\u001B[38;5;124m'\u001B[39m\u001B[38;5;124mclass\u001B[39m\u001B[38;5;124m'\u001B[39m)\n\u001B[1;32m----> 3\u001B[0m predicted_df \u001B[38;5;241m=\u001B[39m \u001B[43mdt_predict\u001B[49m\u001B[43m(\u001B[49m\u001B[43mtest_df\u001B[49m\u001B[43m,\u001B[49m\u001B[43m \u001B[49m\u001B[43mtree\u001B[49m\u001B[43m)\u001B[49m\n\u001B[0;32m      5\u001B[0m accuracy \u001B[38;5;241m=\u001B[39m dt_calculate_accuracy(predicted_df)\n\u001B[0;32m      6\u001B[0m \u001B[38;5;28mprint\u001B[39m(\u001B[38;5;124mf\u001B[39m\u001B[38;5;124m'\u001B[39m\u001B[38;5;124mthe accuracy of prediction is \u001B[39m\u001B[38;5;132;01m{\u001B[39;00maccuracy\u001B[38;5;132;01m:\u001B[39;00m\u001B[38;5;124m3\u001B[39m\u001B[38;5;132;01m}\u001B[39;00m\u001B[38;5;124m'\u001B[39m)\n",
      "\u001B[1;31mTypeError\u001B[0m: dt_predict() missing 1 required positional argument: 'ml_task'"
     ]
    }
   ],
   "source": [
    "train_df , test_df = sp.train_test_split(df , test_size=0.2)\n",
    "tree = dt_train(train_df,max_depth=3, ml_task='class')\n",
    "predicted_df = dt_predict(test_df, tree)\n",
    "\n",
    "accuracy = dt_calculate_accuracy(predicted_df)\n",
    "print(f'the accuracy of prediction is {accuracy:3}')\n",
    "predicted_df"
   ],
   "metadata": {
    "collapsed": false
   }
  },
  {
   "cell_type": "markdown",
   "source": [
    "### r_squared"
   ],
   "metadata": {
    "collapsed": false
   }
  },
  {
   "cell_type": "code",
   "execution_count": null,
   "outputs": [],
   "source": [
    "def calculate_r_squared(df, tree):\n",
    "    labels = df.label\n",
    "    mean = labels.mean()\n",
    "    predictions = df.apply(predict_sample, args=(tree,), axis=1)\n",
    "\n",
    "    ss_res = sum((labels - predictions) ** 2)\n",
    "    ss_tot = sum((labels - mean) ** 2)\n",
    "    r_squared = 1 - ss_res / ss_tot\n",
    "\n",
    "    return r_squared"
   ],
   "metadata": {
    "collapsed": false
   }
  },
  {
   "cell_type": "markdown",
   "source": [
    "##  Hyperparameter Tuning\n",
    "\n",
    "#### Its essential that our module contains an API function to tune the parameter of the tree like min__samples and max_depth , the parameters are optimized based on the accuracy for the classification and on r_squared based for regression.\n"
   ],
   "metadata": {
    "collapsed": false
   }
  },
  {
   "cell_type": "code",
   "execution_count": null,
   "outputs": [],
   "source": [
    "def dt_tune_parameters(df , ml_task):\n",
    "    if ml_task == 'regression':\n",
    "        train_df , val_df = sp.train_test_split(df , test_size=0.3)\n",
    "        grid_search = {\"max_depth\": [], \"min_samples\": [], \"r_squared_train\": [], \"r_squared_val\": []}\n",
    "        for max_depth in range(1, 7):\n",
    "            for min_samples in range(5, 20, 5):\n",
    "                tree = dt_train(train_df, ml_task=\"regression\", max_depth=max_depth, min_samples=min_samples)\n",
    "\n",
    "                r_squared_train = calculate_r_squared(train_df, tree)\n",
    "                r_squared_val = calculate_r_squared(val_df, tree)\n",
    "\n",
    "                grid_search[\"max_depth\"].append(max_depth)\n",
    "                grid_search[\"min_samples\"].append(min_samples)\n",
    "                grid_search[\"r_squared_train\"].append(r_squared_train)\n",
    "                grid_search[\"r_squared_val\"].append(r_squared_val)\n",
    "\n",
    "    else: # task is classification\n",
    "        grid_search = {\"max_depth\": [], \"min_samples\": [], \"accuracy\": []}\n",
    "        for max_depth in range(1, 7):\n",
    "            for min_samples in range(5, 20, 5):\n",
    "                tree = dt_train(df, ml_task=\"classification\", max_depth=max_depth, min_samples=min_samples)\n",
    "\n",
    "                accuracy = dt_calculate_accuracy(dt_predict(df , tree , 'classification'))\n",
    "\n",
    "\n",
    "                grid_search[\"max_depth\"].append(max_depth)\n",
    "                grid_search[\"min_samples\"].append(min_samples)\n",
    "                grid_search[\"accuracy\"].append(accuracy)\n",
    "\n",
    "    grid_search = pd.DataFrame(grid_search)\n",
    "    return  grid_search.sort_values(\"r_squared_val\", ascending=False)\n"
   ],
   "metadata": {
    "collapsed": false
   }
  }
 ],
 "metadata": {
  "kernelspec": {
   "display_name": "Python 3",
   "language": "python",
   "name": "python3"
  },
  "language_info": {
   "codemirror_mode": {
    "name": "ipython",
    "version": 2
   },
   "file_extension": ".py",
   "mimetype": "text/x-python",
   "name": "python",
   "nbconvert_exporter": "python",
   "pygments_lexer": "ipython2",
   "version": "2.7.6"
  }
 },
 "nbformat": 4,
 "nbformat_minor": 0
}
