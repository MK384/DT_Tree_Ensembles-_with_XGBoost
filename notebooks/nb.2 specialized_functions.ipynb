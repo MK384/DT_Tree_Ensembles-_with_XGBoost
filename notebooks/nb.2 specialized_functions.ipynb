{
 "cells": [
  {
   "cell_type": "markdown",
   "metadata": {},
   "source": [
    "# The Goal of this Project is to code a classifier and regressor decision tree that can be used with the following API:\n",
    "\n",
    "```\n",
    "df = pd.read_csv(\"data.csv\")\n",
    "\n",
    "train_df, test_df = sp.train_test_split(df, test_size = 0.2)\n",
    "tree = dt.train(train_df)\n",
    "predictions = dt.predict(test_df, tree)\n",
    "accuracy = dt.calculate_accuracy(predictions, tree)\n",
    "\n",
    "```\n",
    "\n",
    "The algorithm that is going to be implemented looks like this:\n",
    "\n",
    "<img src=\"https://raw.githubusercontent.com/SebastianMantey/Decision-Tree-from-Scratch/master/images/decision_tree_algorithm_1.png\" width=\"350\">"
   ]
  },
  {
   "cell_type": "markdown",
   "metadata": {},
   "source": [
    "## Import Statements"
   ]
  },
  {
   "cell_type": "code",
   "execution_count": 462,
   "metadata": {},
   "outputs": [],
   "source": [
    "import numpy as np\n",
    "import pandas as pd\n",
    "\n",
    "import matplotlib.pyplot as plt\n",
    "import seaborn as sns\n",
    "\n",
    "import random\n"
   ]
  },
  {
   "cell_type": "code",
   "execution_count": 463,
   "metadata": {},
   "outputs": [],
   "source": [
    "%matplotlib inline\n",
    "sns.set_style(\"darkgrid\")"
   ]
  },
  {
   "cell_type": "markdown",
   "metadata": {},
   "source": [
    "# Load and Prepare Data"
   ]
  },
  {
   "cell_type": "markdown",
   "metadata": {},
   "source": [
    "#### Format of the data\n",
    "- the last column of the data frame must contain the label and it must also be called \"label\"\n",
    "- there should be no missing values in the data frame"
   ]
  },
  {
   "cell_type": "code",
   "execution_count": 464,
   "metadata": {},
   "outputs": [],
   "source": [
    "df = pd.read_csv(\"../data/Iris.csv\")\n",
    "df = df.drop(\"Id\", axis=1)\n",
    "df = df.rename(columns={\"species\": \"label\"})"
   ]
  },
  {
   "cell_type": "code",
   "execution_count": 465,
   "metadata": {},
   "outputs": [
    {
     "data": {
      "text/plain": "   sepal_length  sepal_width  petal_length  petal_width        label\n0           5.1          3.5           1.4          0.2  Iris-setosa\n1           4.9          3.0           1.4          0.2  Iris-setosa\n2           4.7          3.2           1.3          0.2  Iris-setosa\n3           4.6          3.1           1.5          0.2  Iris-setosa\n4           5.0          3.6           1.4          0.2  Iris-setosa",
      "text/html": "<div>\n<style scoped>\n    .dataframe tbody tr th:only-of-type {\n        vertical-align: middle;\n    }\n\n    .dataframe tbody tr th {\n        vertical-align: top;\n    }\n\n    .dataframe thead th {\n        text-align: right;\n    }\n</style>\n<table border=\"1\" class=\"dataframe\">\n  <thead>\n    <tr style=\"text-align: right;\">\n      <th></th>\n      <th>sepal_length</th>\n      <th>sepal_width</th>\n      <th>petal_length</th>\n      <th>petal_width</th>\n      <th>label</th>\n    </tr>\n  </thead>\n  <tbody>\n    <tr>\n      <th>0</th>\n      <td>5.1</td>\n      <td>3.5</td>\n      <td>1.4</td>\n      <td>0.2</td>\n      <td>Iris-setosa</td>\n    </tr>\n    <tr>\n      <th>1</th>\n      <td>4.9</td>\n      <td>3.0</td>\n      <td>1.4</td>\n      <td>0.2</td>\n      <td>Iris-setosa</td>\n    </tr>\n    <tr>\n      <th>2</th>\n      <td>4.7</td>\n      <td>3.2</td>\n      <td>1.3</td>\n      <td>0.2</td>\n      <td>Iris-setosa</td>\n    </tr>\n    <tr>\n      <th>3</th>\n      <td>4.6</td>\n      <td>3.1</td>\n      <td>1.5</td>\n      <td>0.2</td>\n      <td>Iris-setosa</td>\n    </tr>\n    <tr>\n      <th>4</th>\n      <td>5.0</td>\n      <td>3.6</td>\n      <td>1.4</td>\n      <td>0.2</td>\n      <td>Iris-setosa</td>\n    </tr>\n  </tbody>\n</table>\n</div>"
     },
     "execution_count": 465,
     "metadata": {},
     "output_type": "execute_result"
    }
   ],
   "source": [
    "df.head()"
   ]
  },
  {
   "cell_type": "markdown",
   "metadata": {},
   "source": [
    "# Train-Test-Split"
   ]
  },
  {
   "cell_type": "code",
   "execution_count": 466,
   "metadata": {},
   "outputs": [],
   "source": [
    "def train_test_split(df : pd.DataFrame, test_size):\n",
    "    \"\"\" this function splits the data frame into to sub-frames, first for training the model second to test \"\"\"\n",
    "    # checks if the test_size is a portion or amount\n",
    "    if isinstance(test_size, float):\n",
    "        # if portion calculate the amount\n",
    "        test_size = round(test_size * len(df))\n",
    "    # generate a list of indices in the data frame\n",
    "    indices = df.index.tolist()\n",
    "\n",
    "    # pick the indices of the amount required randomly\n",
    "    test_indices = random.sample(population = indices, k=test_size)\n",
    "\n",
    "    # locate the test indices to a new dataframe (test dataframe)\n",
    "    test_df = df.loc[test_indices]\n",
    "    # drop the test indices to get the train data frame\n",
    "    train_df = df.drop(test_indices)\n",
    "    \n",
    "    return train_df, test_df"
   ]
  },
  {
   "cell_type": "markdown",
   "source": [
    "#### API Testing"
   ],
   "metadata": {
    "collapsed": false
   }
  },
  {
   "cell_type": "code",
   "execution_count": 467,
   "metadata": {},
   "outputs": [
    {
     "name": "stdout",
     "output_type": "stream",
     "text": [
      "<class 'pandas.core.frame.DataFrame'>\n",
      "Int64Index: 30 entries, 77 to 118\n",
      "Data columns (total 5 columns):\n",
      " #   Column        Non-Null Count  Dtype  \n",
      "---  ------        --------------  -----  \n",
      " 0   sepal_length  30 non-null     float64\n",
      " 1   sepal_width   30 non-null     float64\n",
      " 2   petal_length  30 non-null     float64\n",
      " 3   petal_width   30 non-null     float64\n",
      " 4   label         30 non-null     object \n",
      "dtypes: float64(4), object(1)\n",
      "memory usage: 1.4+ KB\n"
     ]
    }
   ],
   "source": [
    "train_df, test_df = train_test_split(df, test_size = 0.2)\n",
    "test_df.info()"
   ]
  },
  {
   "cell_type": "markdown",
   "metadata": {},
   "source": [
    "# Private specialized Functions\n",
    "The specialized functions operate on a NumPy 2d-array.\n",
    "Therefore, let’s create a variable called “data” to see what we will be working with.\n"
   ]
  },
  {
   "cell_type": "code",
   "execution_count": 468,
   "metadata": {},
   "outputs": [
    {
     "data": {
      "text/plain": "array([[5.1, 3.5, 1.4, 0.2, 'Iris-setosa'],\n       [4.9, 3.0, 1.4, 0.2, 'Iris-setosa'],\n       [4.7, 3.2, 1.3, 0.2, 'Iris-setosa'],\n       [4.6, 3.1, 1.5, 0.2, 'Iris-setosa'],\n       [5.0, 3.6, 1.4, 0.2, 'Iris-setosa']], dtype=object)"
     },
     "execution_count": 468,
     "metadata": {},
     "output_type": "execute_result"
    }
   ],
   "source": [
    "data = train_df.values\n",
    "data[:5]\n"
   ]
  },
  {
   "cell_type": "markdown",
   "metadata": {},
   "source": [
    "### Data pure?\n",
    "This function checks for purity in the data before any attempt to split"
   ]
  },
  {
   "cell_type": "code",
   "execution_count": 469,
   "outputs": [],
   "source": [
    "def check_purity(data) -> bool:\n",
    "    \"\"\"\n",
    "    This function checks for purity in the data before any attempt to split\n",
    "    :param data: data array to check its purity\n",
    "    :return: true if pure , false if not\n",
    "    \"\"\"\n",
    "    # get an array of the label column\n",
    "    label_column = data[:, -1]\n",
    "    # get the unique classes from the label column\n",
    "    unique_classes = np.unique(label_column)\n",
    "    # the data is pure if there is one class\n",
    "    return len(unique_classes) == 1"
   ],
   "metadata": {
    "collapsed": false
   }
  },
  {
   "cell_type": "markdown",
   "metadata": {},
   "source": [
    "### Classify | Make_Leaf\n",
    "This function return the most occurred class in the data array passed to it if the task is classification\n",
    "and return the mean of the label values in case of Regression.\n",
    "This function will be needed when decide to stop splitting in a certain level"
   ]
  },
  {
   "cell_type": "code",
   "execution_count": 470,
   "metadata": {},
   "outputs": [],
   "source": [
    "def make_leaf(data , ml_task) -> str:\n",
    "    \"\"\"\n",
    "    This function return the most occurred class in the data array passed to it if ml_task is classification and the mean of the label vals if the ml_task is regression.\n",
    "\n",
    "    \"\"\"\n",
    "    # generate array of the label column\n",
    "    label_column = data[:, -1]\n",
    "    if ml_task == \"regression\":\n",
    "        leaf = np.mean(label_column)\n",
    "    else: # classification\n",
    "        # get the unique classes from the label column as well as number of occurrence for each class\n",
    "        unique_classes, counts_unique_classes = np.unique(label_column, return_counts=True)\n",
    "        # return a string of the name for the most occurred one\n",
    "        index_of_max = counts_unique_classes.argmax()\n",
    "        leaf = unique_classes[index_of_max]\n",
    "    \n",
    "    return leaf"
   ]
  },
  {
   "cell_type": "markdown",
   "source": [
    "### Type of Feature\n",
    "- type of feature will decide to treat its values as continuous values or categorical"
   ],
   "metadata": {
    "collapsed": false
   }
  },
  {
   "cell_type": "code",
   "execution_count": 471,
   "outputs": [],
   "source": [
    "def type_of_features(df):\n",
    "    \"\"\"\n",
    "    this api function return a tuple contain each feature type (continuous , categorical )\n",
    "    :param df: the data frame to determine its features types\n",
    "    :return: sorted tuple contains each feature type\n",
    "    \"\"\"\n",
    "    feature_types = []\n",
    "    values_threshold = 15\n",
    "    for feature in df.columns:\n",
    "        if feature != \"label\":\n",
    "            unique_values = df[feature].unique()\n",
    "            example_value = unique_values[0]\n",
    "\n",
    "            if (isinstance(example_value, str)) or (len(unique_values) <= values_threshold):\n",
    "                feature_types.append(\"categorical\")\n",
    "            else:\n",
    "                feature_types.append(\"continuous\")\n",
    "\n",
    "    return tuple(feature_types)"
   ],
   "metadata": {
    "collapsed": false
   }
  },
  {
   "cell_type": "code",
   "execution_count": 472,
   "outputs": [],
   "source": [
    "global FEATURE_TYPES\n",
    "def set_feature_types(types):\n",
    "    global FEATURE_TYPES\n",
    "    FEATURE_TYPES = types"
   ],
   "metadata": {
    "collapsed": false
   }
  },
  {
   "cell_type": "markdown",
   "source": [
    "### Potential splits?"
   ],
   "metadata": {
    "collapsed": false
   }
  },
  {
   "cell_type": "code",
   "execution_count": 473,
   "metadata": {},
   "outputs": [],
   "source": [
    "\n",
    "def get_potential_splits(data) -> dict:\n",
    "    \"\"\"\n",
    "    This function return a dic contains the indices of the continues features in the data as keys\n",
    "    and the values for potentially split on for each feature.\n",
    "    \"\"\"\n",
    "    # create the dic to be returned\n",
    "    potential_splits = {}\n",
    "    # get the dims of the frame\n",
    "    _, n_columns = data.shape\n",
    "    for column_index in range(n_columns - 1):  # excluding the last column which is the label\n",
    "        # generate an array of contained the values of this col\n",
    "        values = data[:, column_index]\n",
    "        # extract the uniques\n",
    "        unique_values = np.unique(values)\n",
    "        # for each index create a list as key\n",
    "        potential_splits[column_index] =list(unique_values)\n",
    "\n",
    "    return potential_splits"
   ]
  },
  {
   "cell_type": "markdown",
   "source": [
    "#### API testing"
   ],
   "metadata": {
    "collapsed": false
   }
  },
  {
   "cell_type": "code",
   "execution_count": 474,
   "outputs": [
    {
     "data": {
      "text/plain": "<matplotlib.collections.LineCollection at 0x20c3c16df60>"
     },
     "execution_count": 474,
     "metadata": {},
     "output_type": "execute_result"
    },
    {
     "data": {
      "text/plain": "<Figure size 1032.5x600 with 1 Axes>",
      "image/png": "[encoded data removed]"
     },
     "metadata": {},
     "output_type": "display_data"
    }
   ],
   "source": [
    "pot_splits = get_potential_splits(train_df.values)\n",
    "sns.lmplot(data = train_df,x = \"petal_width\",y='petal_length',hue='label',fit_reg = False , height  = 6 , aspect = 1.5 )\n",
    "lines = []\n",
    "for i in range(1,len(pot_splits[3])):\n",
    "    line = (pot_splits[3][i] + pot_splits[3][i-1])/2\n",
    "    lines.append(line)\n",
    "plt.vlines(x = lines, ymin=1 , ymax = 7) # draw potential splits of the petal width col"
   ],
   "metadata": {
    "collapsed": false
   }
  },
  {
   "cell_type": "markdown",
   "source": [
    "### Data splitting\n",
    "\n",
    "After we become able to get a list of potential split values for each column we would like to have an api\n",
    "that takes a potential value and selected col to splits the data on these parameters.\n"
   ],
   "metadata": {
    "collapsed": false
   }
  },
  {
   "cell_type": "code",
   "execution_count": 475,
   "outputs": [],
   "source": [
    "def split_data(data , split_column, split_value):\n",
    "    \"\"\" this function split the data frame into two sub-frames based on a split value in the split col \"\"\"\n",
    "    feature_type = FEATURE_TYPES[split_column]\n",
    "    # get an array of the values in the split col\n",
    "    split_column_values = data[:, split_column]\n",
    "\n",
    "    # if the feature is continuous\n",
    "    if feature_type == 'continuous':\n",
    "        # for each value below than the threshold select its row in the data_below frame\n",
    "        data_below = data[split_column_values <= split_value]\n",
    "        # for each value above than the threshold select its row in the data_above frame\n",
    "        data_above = data[split_column_values >  split_value]\n",
    "    else:\n",
    "        data_below = data[split_column_values == split_value]\n",
    "        data_above = data[split_column_values != split_value]\n",
    "\n",
    "    return data_below, data_above"
   ],
   "metadata": {
    "collapsed": false
   }
  },
  {
   "cell_type": "markdown",
   "source": [
    "### Entropy and Mean Squared Error Calculation Functions\n",
    "\n",
    "After Creating the APIs that enable us from manipulating the data frames we get into the stage of calculating entropy, the methods that would help us to shape our decision tree if the task of the tree is classification,\n",
    "  and Mean Squared Error (MSE) if the task is regression.\n",
    "\n",
    "- entropy()\n",
    "- mse()\n",
    "- info_gain()\n"
   ],
   "metadata": {
    "collapsed": false
   }
  },
  {
   "cell_type": "code",
   "execution_count": 476,
   "outputs": [],
   "source": [
    "def entropy(data):\n",
    "    \"\"\"\n",
    "    this function calculate and return the entropy of the given data frame.\n",
    "    :param data: data to calculate entropy for\n",
    "    :return: float number represent the entropy of the data\n",
    "    \"\"\"\n",
    "\n",
    "    # we get an array contains all values in label col (classes)\n",
    "    label_column = data[:, -1]\n",
    "    _, counts = np.unique(label_column, return_counts=True) # counts the occurrence of each class\n",
    "    # get all classes probabilities\n",
    "    probabilities = counts / counts.sum()\n",
    "    # calculate entropy the weighted sum of the -log all probabilities\n",
    "    entropy = sum(probabilities * -np.log2(probabilities))\n",
    "\n",
    "    return entropy"
   ],
   "metadata": {
    "collapsed": false
   }
  },
  {
   "cell_type": "code",
   "execution_count": 477,
   "outputs": [],
   "source": [
    "def mse(data):\n",
    "    \"\"\"\n",
    "    this function returns the mean squared error of the data given to it.\n",
    "    :param data: data to calculate mse for.\n",
    "    :return: float number represents the mse value.\n",
    "    \"\"\"\n",
    "    # we get an array contains all values in label col\n",
    "    actual_values = data[:, -1]\n",
    "    # checks for empty array of data , then mse is zero\n",
    "    if len(actual_values) == 0:   # empty data\n",
    "        mse = 0\n",
    "\n",
    "    else: # data frame is not empty\n",
    "        # mse = (1/n) * sum(actual - predict)^2\n",
    "        # so we first get the predicted value as it is the mean of all values.\n",
    "        prediction = np.mean(actual_values)\n",
    "        mse = np.mean((actual_values - prediction) ** 2)\n",
    "\n",
    "    return mse"
   ],
   "metadata": {
    "collapsed": false
   }
  },
  {
   "cell_type": "code",
   "execution_count": 478,
   "outputs": [],
   "source": [
    "def overall_metric(data_below, data_above , metric_method):\n",
    "    \"\"\" this function calculate the overall gain of splitted data ,\n",
    "    E(data ) - ( w1.E(left_branch) + w2.E(right_branch) )  \"\"\"\n",
    "    # calculate the wights of the two branches\n",
    "    n = len(data_below) + len(data_above)\n",
    "    p_data_below = len(data_below) / n\n",
    "    p_data_above = len(data_above) / n\n",
    "    # calculate overall entropy and return it\n",
    "    overall = (p_data_below * metric_method(data_below)\n",
    "                       + p_data_above * metric_method(data_above))\n",
    "\n",
    "    return overall"
   ],
   "metadata": {
    "collapsed": false
   }
  },
  {
   "cell_type": "code",
   "execution_count": 479,
   "outputs": [],
   "source": [
    "def info_gain(data , data_below, data_above , metric_method):\n",
    "    \"\"\" This functions returns the information gain we get from a specified split \"\"\"\n",
    "    # information gain is simply the entropy of whole data - overall_entropy\n",
    "    return metric_method(data) - overall_metric(data_below , data_above , metric_method)"
   ],
   "metadata": {
    "collapsed": false
   }
  },
  {
   "cell_type": "markdown",
   "source": [
    "### Fit Features to split on one\n",
    " Now after creating the all required APIs capable of calculating info gain it's the time to create the function\n",
    " that will best fit the features to select one of them and split on it, splitting the data on the feature will\n",
    " happen at the best split value that gives the most highest information gain."
   ],
   "metadata": {
    "collapsed": false
   }
  },
  {
   "cell_type": "code",
   "execution_count": 480,
   "outputs": [],
   "source": [
    "def fit_best_split(data , ml_task : str):\n",
    "    \"\"\"This function returns the index of the  best fit feature and the best fit value to split the data on  \"\"\"\n",
    "    # get all potential_splits that features could split on\n",
    "    potential_splits = get_potential_splits(data)\n",
    "    # set the max info gain to zero and iterate over all feature with all split values\n",
    "    # searching for that feature and split value\n",
    "    first_iteration = True\n",
    "    lowest_metric = None\n",
    "    best_split_feature , best_split_value = None , None\n",
    "    for feature in potential_splits:\n",
    "        for split_value in potential_splits[feature]:\n",
    "            # we split for the current feature and split value\n",
    "            data_below, data_above = split_data(data, feature, split_value )\n",
    "            # if the task is regression calculate the gain based of the mse\n",
    "            if ml_task == 'regression':\n",
    "                current_metric = overall_metric(data_below,data_above,mse)\n",
    "            #  if the task is classification calculate gain based on entropy\n",
    "            else: # classification\n",
    "                current_metric = overall_metric(data_below, data_above,entropy)\n",
    "            # if the current gain higher than the max update our vars\n",
    "            if first_iteration or (current_metric <= lowest_metric):\n",
    "                first_iteration = False\n",
    "                lowest_metric = current_metric\n",
    "                best_split_feature = feature\n",
    "                best_split_value = split_value\n",
    "\n",
    "    return best_split_feature , best_split_value"
   ],
   "metadata": {
    "collapsed": false
   }
  },
  {
   "cell_type": "markdown",
   "source": [
    "#### API testing"
   ],
   "metadata": {
    "collapsed": false
   }
  },
  {
   "cell_type": "code",
   "execution_count": 481,
   "outputs": [
    {
     "name": "stdout",
     "output_type": "stream",
     "text": [
      "0.6\n",
      "1.6\n"
     ]
    },
    {
     "data": {
      "text/plain": "<Figure size 1032.5x600 with 1 Axes>",
      "image/png": "[encoded data removed]"
     },
     "metadata": {},
     "output_type": "display_data"
    }
   ],
   "source": [
    "set_feature_types(type_of_features(train_df))\n",
    "best_split_feature1 , best_split_value1 = fit_best_split(train_df.values , 'classification')\n",
    "below , above = split_data(train_df.values , best_split_feature1 , best_split_value1 )\n",
    "_ , best_split_value2 = fit_best_split(above , 'classification')\n",
    "sns.lmplot(data = train_df,x = \"petal_width\",y='petal_length',hue='label',fit_reg = False , height  = 6 , aspect = 1.5 )\n",
    "plt.vlines(x = best_split_value1, ymin = 1 , ymax = 7 )\n",
    "plt.vlines(x = best_split_value2, ymin = 1 , ymax = 7 ,colors=\"red\")\n",
    "\n",
    "print(best_split_value1)\n",
    "print(best_split_value2)"
   ],
   "metadata": {
    "collapsed": false
   }
  },
  {
   "cell_type": "markdown",
   "source": [
    "##### It seems that fit_best_split works fine"
   ],
   "metadata": {
    "collapsed": false
   }
  }
 ],
 "metadata": {
  "kernelspec": {
   "display_name": "Python 3",
   "language": "python",
   "name": "python3"
  },
  "language_info": {
   "codemirror_mode": {
    "name": "ipython",
    "version": 3
   },
   "file_extension": ".py",
   "mimetype": "text/x-python",
   "name": "python",
   "nbconvert_exporter": "python",
   "pygments_lexer": "ipython3",
   "version": "3.7.3"
  }
 },
 "nbformat": 4,
 "nbformat_minor": 4
}
